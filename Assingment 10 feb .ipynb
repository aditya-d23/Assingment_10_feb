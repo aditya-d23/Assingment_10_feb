{
 "cells": [
  {
   "cell_type": "markdown",
   "id": "f92af1f9-7d72-46bd-95b6-f1bc6eff7fa6",
   "metadata": {},
   "source": [
    "Q1. Which function is used to open a file? What are the different modes of opening a file? Explain each mode \n",
    "of file opening.\n"
   ]
  },
  {
   "cell_type": "markdown",
   "id": "0027de34-ff30-4954-a295-b44b480c2c41",
   "metadata": {},
   "source": [
    "Ans- open(\"file_name\",\"opening mode\") \n",
    "open function is used to open a file. There are different types of modes of opening a file. The following modes are listed below. We have read mode write ,append mode "
   ]
  },
  {
   "cell_type": "markdown",
   "id": "f540b762-4db2-43e1-a9eb-ecd5821c2de8",
   "metadata": {},
   "source": [
    "we have the following mode for opening a file:-"
   ]
  },
  {
   "cell_type": "markdown",
   "id": "be409b12-55cd-4c31-af83-322cf795528c",
   "metadata": {},
   "source": [
    "'r'       open for reading (default)\n",
    "'w'       open for writing, truncating the file first\n",
    "'x'       create a new file and open it for writing\n",
    "'a'       open for writing, appending to the end of the file if it exists\n",
    "'b'       binary mode\n",
    "'t'       text mode (default)\n",
    "'+'       open a disk file for updating (reading and writing)\n",
    "'U'       universal newline mode (deprecated)"
   ]
  },
  {
   "cell_type": "markdown",
   "id": "f87ee82d-1d0c-4563-9b0b-f7c04598b344",
   "metadata": {},
   "source": [
    "Q2. Why close() function is used? Why is it important to close a file?"
   ]
  },
  {
   "cell_type": "markdown",
   "id": "0121055b-bd1a-4b30-8293-73843e4f41e1",
   "metadata": {},
   "source": [
    "Ans- close function is used for closing a file because it is basically used for final dumping the content into the file and it is important to close because it finally commit those changes into the file. "
   ]
  },
  {
   "cell_type": "markdown",
   "id": "61a13f78-dbe9-4076-b0d7-50b51b833c98",
   "metadata": {},
   "source": [
    "Q3. Write a python program to create a text file. Write ‘I want to become a Data Scientist’ in that file. Then \n",
    "close the file. Open this file and read the content of the file. "
   ]
  },
  {
   "cell_type": "code",
   "execution_count": 1,
   "id": "510ef212-c812-46fe-b417-c7efe681ec95",
   "metadata": {},
   "outputs": [],
   "source": [
    "f=open(\"file.txt\",\"w\")"
   ]
  },
  {
   "cell_type": "code",
   "execution_count": 2,
   "id": "85c75c8a-e192-4173-b58d-e0d47dd0a635",
   "metadata": {},
   "outputs": [
    {
     "data": {
      "text/plain": [
       "33"
      ]
     },
     "execution_count": 2,
     "metadata": {},
     "output_type": "execute_result"
    }
   ],
   "source": [
    "f.write(\"I want to become a Data Scientist\")"
   ]
  },
  {
   "cell_type": "code",
   "execution_count": 3,
   "id": "bf7771a6-c146-451f-a111-0758181fa13f",
   "metadata": {},
   "outputs": [],
   "source": [
    "f.close()"
   ]
  },
  {
   "cell_type": "code",
   "execution_count": 4,
   "id": "52a3fd2d-16ec-4f94-8736-ae2dcb4ab84f",
   "metadata": {},
   "outputs": [],
   "source": [
    "data=open(\"file.txt\",\"r\")"
   ]
  },
  {
   "cell_type": "code",
   "execution_count": 5,
   "id": "64dd8294-4853-47aa-bc19-3111a898f1c5",
   "metadata": {},
   "outputs": [
    {
     "data": {
      "text/plain": [
       "'I want to become a Data Scientist'"
      ]
     },
     "execution_count": 5,
     "metadata": {},
     "output_type": "execute_result"
    }
   ],
   "source": [
    "data.read() #In this function we are reading the content of the file "
   ]
  },
  {
   "cell_type": "code",
   "execution_count": 6,
   "id": "2036cc41-1dd4-4b95-93e5-376b8b8ac11a",
   "metadata": {},
   "outputs": [],
   "source": [
    "data.close()"
   ]
  },
  {
   "cell_type": "markdown",
   "id": "9eecb0fb-24f7-4905-ab7b-e15c70794ab7",
   "metadata": {},
   "source": [
    "Q4. Explain the following with python code: read(), readline() and readlines()."
   ]
  },
  {
   "cell_type": "markdown",
   "id": "955e3d6a-2c8e-4642-8879-eeeb0f6e8d8a",
   "metadata": {},
   "source": [
    "Ans- read() function will read the file entire file at once but in case of readline() and readlines(). readline() method will return a line from the file when called. readlines() method will return all the lines in a file in the format of a list where each element is a line in the file."
   ]
  },
  {
   "cell_type": "markdown",
   "id": "57118c42-f51d-4d66-a0df-4d08aef887ec",
   "metadata": {},
   "source": [
    "Q5. Explain why with statement is used with open(). What is the advantage of using with statement and \n",
    "open() together?"
   ]
  },
  {
   "cell_type": "markdown",
   "id": "f72b87b2-8cd1-4a85-8c39-e5fe7c250d27",
   "metadata": {},
   "source": [
    "Ans-  with statement is used in exception handling to make the code cleaner and much more readable. It simplifies the management of common resources like file streams.there is no need to call file.close() when using with statement. The with statement itself ensures proper acquisition and release of resources."
   ]
  },
  {
   "cell_type": "markdown",
   "id": "9f989651-14fb-4421-84f3-a829fc9ca7b6",
   "metadata": {},
   "source": [
    "Q6. Explain the write() and writelines() functions. Give a suitable example."
   ]
  },
  {
   "cell_type": "markdown",
   "id": "7ef30fd6-e5d9-4e70-9a04-1f1e44edf513",
   "metadata": {},
   "source": [
    "Ans- The write() method accepts a string as an argument and writes this string to the text file. Whereas, the writelines() method accepts an iterable i.e. a string or the list of strings as an argument and writes these strings to the text file."
   ]
  },
  {
   "cell_type": "code",
   "execution_count": null,
   "id": "f1b6de3e-9baa-4b83-9d6c-a083195d08b7",
   "metadata": {},
   "outputs": [],
   "source": []
  }
 ],
 "metadata": {
  "kernelspec": {
   "display_name": "Python 3 (ipykernel)",
   "language": "python",
   "name": "python3"
  },
  "language_info": {
   "codemirror_mode": {
    "name": "ipython",
    "version": 3
   },
   "file_extension": ".py",
   "mimetype": "text/x-python",
   "name": "python",
   "nbconvert_exporter": "python",
   "pygments_lexer": "ipython3",
   "version": "3.10.6"
  }
 },
 "nbformat": 4,
 "nbformat_minor": 5
}
